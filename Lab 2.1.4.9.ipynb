{
 "cells": [
  {
   "cell_type": "code",
   "execution_count": 5,
   "metadata": {},
   "outputs": [
    {
     "name": "stdout",
     "output_type": "stream",
     "text": [
      "7.39 millas son  12.0 kilometros\n",
      "12.25 kilometros son  7.6 millas\n",
      "\n",
      "Resultado esperado: \n",
      "7.39 millas son 11.88 kilometros \n",
      "12.25 kilometros son 7.62 millas \n"
     ]
    }
   ],
   "source": [
    "kilometros = 12.25 \n",
    "millas = 7.39\n",
    "\n",
    "millas_a_kilometros = millas * 1.62\n",
    "kilometros_a_millas = kilometros / 1.61\n",
    "\n",
    "print (millas , \"millas son \", round (millas_a_kilometros, 1),\"kilometros\")\n",
    "print (kilometros, \"kilometros son \", round (kilometros_a_millas, 1), \"millas\")\n",
    "print (\"\\nResultado esperado: \\n7.39 millas son 11.88 kilometros \\n12.25 kilometros son 7.62 millas \")\n",
    "\n"
   ]
  },
  {
   "cell_type": "code",
   "execution_count": null,
   "metadata": {},
   "outputs": [],
   "source": []
  }
 ],
 "metadata": {
  "kernelspec": {
   "display_name": "Python 3",
   "language": "python",
   "name": "python3"
  },
  "language_info": {
   "codemirror_mode": {
    "name": "ipython",
    "version": 3
   },
   "file_extension": ".py",
   "mimetype": "text/x-python",
   "name": "python",
   "nbconvert_exporter": "python",
   "pygments_lexer": "ipython3",
   "version": "3.8.3"
  }
 },
 "nbformat": 4,
 "nbformat_minor": 4
}
