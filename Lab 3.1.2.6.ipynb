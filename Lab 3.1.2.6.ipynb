{
 "cells": [
  {
   "cell_type": "code",
   "execution_count": 3,
   "metadata": {},
   "outputs": [
    {
     "name": "stdout",
     "output_type": "stream",
     "text": [
      "1 Missisipi\n",
      "2 Missisipi\n",
      "3 Missisipi\n",
      "4 Missisipi\n",
      "5 Missisipi\n",
      "¡Listo o no, ahi voy!\n"
     ]
    }
   ],
   "source": [
    "import time  \n",
    "for a in range (1 , 6):\n",
    "    print (a, \"Missisipi\")\n",
    "    time.sleep(3)\n",
    "print (\"¡Listo o no, ahi voy!\") "
   ]
  },
  {
   "cell_type": "code",
   "execution_count": null,
   "metadata": {},
   "outputs": [],
   "source": []
  },
  {
   "cell_type": "code",
   "execution_count": null,
   "metadata": {},
   "outputs": [],
   "source": []
  }
 ],
 "metadata": {
  "kernelspec": {
   "display_name": "Python 3",
   "language": "python",
   "name": "python3"
  },
  "language_info": {
   "codemirror_mode": {
    "name": "ipython",
    "version": 3
   },
   "file_extension": ".py",
   "mimetype": "text/x-python",
   "name": "python",
   "nbconvert_exporter": "python",
   "pygments_lexer": "ipython3",
   "version": "3.8.3"
  }
 },
 "nbformat": 4,
 "nbformat_minor": 4
}
