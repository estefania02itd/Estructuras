{
 "cells": [
  {
   "cell_type": "markdown",
   "metadata": {},
   "source": [
    "# Esefania Delgado Cruz\n",
    "## Estructura y Organizacion de Datos\n",
    "### La funciòn print "
   ]
  },
  {
   "cell_type": "code",
   "execution_count": 33,
   "metadata": {},
   "outputs": [
    {
     "name": "stdout",
     "output_type": "stream",
     "text": [
      "5\n",
      "¡Hola,Mundo!\n",
      "El valor de x es 5 El valor de y es: 7\n"
     ]
    }
   ],
   "source": [
    "x=5\n",
    "y=7 \n",
    "print (x)\n",
    "print (\"¡Hola,Mundo!\")\n",
    "print ('El valor de x es', x ,'El valor de y es:', y)"
   ]
  },
  {
   "cell_type": "code",
   "execution_count": 34,
   "metadata": {},
   "outputs": [
    {
     "name": "stdout",
     "output_type": "stream",
     "text": [
      "El valor de x es: 5 *** El valor de 'y' es:  7\n",
      "Holas\n"
     ]
    }
   ],
   "source": [
    "#Usamos el parametro end para especificar cual es el terminador de linea en una instruccion print. \n",
    "print ('El valor de x es:', x , end = ' *** ')\n",
    "print ('El valor de \\'y\\' es: ', y)\n",
    "print ( \"Holas\")"
   ]
  },
  {
   "cell_type": "markdown",
   "metadata": {},
   "source": [
    " Epecificar el texto que separa los argumentos de la funcion **print**. \n",
    " Utilizamos el parametro **sep** para indicar el separador de argumentos. \n",
    "\n"
   ]
  },
  {
   "cell_type": "code",
   "execution_count": 35,
   "metadata": {
    "scrolled": true
   },
   "outputs": [
    {
     "name": "stdout",
     "output_type": "stream",
     "text": [
      "El valor de x es -> 5\n",
      "El valor de 'y' es:  7\n"
     ]
    }
   ],
   "source": [
    "#Especificar el texto que separa los argumentos de la funcion. \n",
    "#Usamos el parametro sep para indicar el separador de argumentos. \n",
    "print ('El valor de x es' , x , sep = ' -> ')\n",
    "print ('El valor de \\'y\\' es: ' , y)\n"
   ]
  },
  {
   "cell_type": "code",
   "execution_count": 39,
   "metadata": {},
   "outputs": [
    {
     "name": "stdout",
     "output_type": "stream",
     "text": [
      "El valor de x es: -> 5\n",
      "\n",
      "\n",
      "El valor de 'y' es:  7\n"
     ]
    }
   ],
   "source": [
    " # Especificar separador de argumentos y separador de linea. \n",
    "print ('El valor de x es:' , x , sep = ' -> ', end = '\\n\\n\\n')\n",
    "print ('El valor de \\'y\\' es: ' , y)\n",
    "    "
   ]
  },
  {
   "cell_type": "markdown",
   "metadata": {},
   "source": [
    "### Literales"
   ]
  },
  {
   "cell_type": "code",
   "execution_count": 40,
   "metadata": {},
   "outputs": [
    {
     "name": "stdout",
     "output_type": "stream",
     "text": [
      "Texto\n"
     ]
    }
   ],
   "source": [
    "x= 1100000\n",
    "x= 123.87\n",
    "x= \"Texto\"\n",
    "print (x)"
   ]
  },
  {
   "cell_type": "code",
   "execution_count": 42,
   "metadata": {},
   "outputs": [
    {
     "name": "stdout",
     "output_type": "stream",
     "text": [
      "55000000\n"
     ]
    }
   ],
   "source": [
    "#Numeros con separadores de miles\n",
    "#Forzosamente debe utilizarse un guion\n",
    "x = 11_000_000\n",
    "y = 5\n",
    "print (x * y)"
   ]
  },
  {
   "cell_type": "code",
   "execution_count": 43,
   "metadata": {},
   "outputs": [],
   "source": [
    "#Valores octales\n",
    "x = 0o12345 "
   ]
  },
  {
   "cell_type": "code",
   "execution_count": 44,
   "metadata": {},
   "outputs": [
    {
     "name": "stdout",
     "output_type": "stream",
     "text": [
      "5349\n"
     ]
    }
   ],
   "source": [
    "print(x)"
   ]
  },
  {
   "cell_type": "code",
   "execution_count": 45,
   "metadata": {},
   "outputs": [
    {
     "name": "stdout",
     "output_type": "stream",
     "text": [
      "74565\n"
     ]
    }
   ],
   "source": [
    "#Valores hexadecimales\n",
    "x = 0x12345\n",
    "print (x)"
   ]
  },
  {
   "cell_type": "code",
   "execution_count": 46,
   "metadata": {},
   "outputs": [
    {
     "name": "stdout",
     "output_type": "stream",
     "text": [
      "0.5\n"
     ]
    }
   ],
   "source": [
    "z = .5\n",
    "print (z)"
   ]
  },
  {
   "cell_type": "code",
   "execution_count": 49,
   "metadata": {},
   "outputs": [],
   "source": [
    "v1 = 30000000\n",
    "v2 = 3.1e8"
   ]
  },
  {
   "cell_type": "code",
   "execution_count": 48,
   "metadata": {},
   "outputs": [
    {
     "name": "stdout",
     "output_type": "stream",
     "text": [
      "30000000 300000000.0\n"
     ]
    }
   ],
   "source": [
    "print ( v1,v2)"
   ]
  },
  {
   "cell_type": "code",
   "execution_count": 50,
   "metadata": {},
   "outputs": [
    {
     "name": "stdout",
     "output_type": "stream",
     "text": [
      "80.0\n"
     ]
    }
   ],
   "source": [
    "w = 0.08e3\n",
    "print(w)\n"
   ]
  },
  {
   "cell_type": "code",
   "execution_count": 1,
   "metadata": {},
   "outputs": [
    {
     "name": "stdout",
     "output_type": "stream",
     "text": [
      "I'm a girl\n"
     ]
    }
   ],
   "source": [
    "x = \"I'm a girl\"\n",
    "print (x)"
   ]
  },
  {
   "cell_type": "code",
   "execution_count": 4,
   "metadata": {},
   "outputs": [
    {
     "name": "stdout",
     "output_type": "stream",
     "text": [
      " * * * * * * * * * * * * * * * * * *  * * * * * * \n"
     ]
    }
   ],
   "source": [
    "print (\" * * * * * * * * * * * * * * * * * *  * * * * * * \")"
   ]
  },
  {
   "cell_type": "code",
   "execution_count": 5,
   "metadata": {},
   "outputs": [
    {
     "name": "stdout",
     "output_type": "stream",
     "text": [
      " Hola  Hola  Hola  Hola  Hola  Hola  Hola  Hola  Hola  Hola  Hola  Hola  Hola  Hola  Hola  Hola  Hola  Hola  Hola  Hola  Hola  Hola  Hola  Hola  Hola  Hola  Hola  Hola  Hola  Hola  Hola  Hola  Hola  Hola  Hola  Hola  Hola  Hola  Hola  Hola  Hola  Hola  Hola  Hola  Hola  Hola  Hola  Hola  Hola  Hola \n"
     ]
    }
   ],
   "source": [
    "print (\" Hola \" * 50)"
   ]
  },
  {
   "cell_type": "code",
   "execution_count": 7,
   "metadata": {},
   "outputs": [
    {
     "name": "stdout",
     "output_type": "stream",
     "text": [
      "243\n"
     ]
    }
   ],
   "source": [
    "##Exponienciacion \n",
    "print ( 3 ** 5 )"
   ]
  },
  {
   "cell_type": "code",
   "execution_count": 8,
   "metadata": {},
   "outputs": [
    {
     "name": "stdout",
     "output_type": "stream",
     "text": [
      "15.0\n"
     ]
    }
   ],
   "source": [
    "print ( 3 * 5.0)"
   ]
  },
  {
   "cell_type": "code",
   "execution_count": 10,
   "metadata": {},
   "outputs": [
    {
     "name": "stdout",
     "output_type": "stream",
     "text": [
      "5.0\n"
     ]
    }
   ],
   "source": [
    "print ( 10/2 )"
   ]
  },
  {
   "cell_type": "code",
   "execution_count": 11,
   "metadata": {},
   "outputs": [
    {
     "name": "stdout",
     "output_type": "stream",
     "text": [
      "4\n"
     ]
    }
   ],
   "source": [
    "print ( 9 // 2 )"
   ]
  },
  {
   "cell_type": "code",
   "execution_count": 12,
   "metadata": {},
   "outputs": [
    {
     "name": "stdout",
     "output_type": "stream",
     "text": [
      "1\n"
     ]
    }
   ],
   "source": [
    "print ( 9 % 2)"
   ]
  },
  {
   "cell_type": "code",
   "execution_count": 13,
   "metadata": {},
   "outputs": [
    {
     "name": "stdout",
     "output_type": "stream",
     "text": [
      "2\n"
     ]
    }
   ],
   "source": [
    "print ( + 2)"
   ]
  },
  {
   "cell_type": "code",
   "execution_count": 15,
   "metadata": {},
   "outputs": [
    {
     "name": "stdout",
     "output_type": "stream",
     "text": [
      "25\n"
     ]
    }
   ],
   "source": [
    "print (( 2 + 3)  * 5 )"
   ]
  },
  {
   "cell_type": "code",
   "execution_count": 16,
   "metadata": {},
   "outputs": [
    {
     "name": "stdout",
     "output_type": "stream",
     "text": [
      "256\n"
     ]
    }
   ],
   "source": [
    "print ( 2 ** 2 ** 3)"
   ]
  },
  {
   "cell_type": "code",
   "execution_count": 17,
   "metadata": {},
   "outputs": [],
   "source": [
    "x = 123"
   ]
  },
  {
   "cell_type": "code",
   "execution_count": 18,
   "metadata": {},
   "outputs": [],
   "source": [
    "x = \"Hola Mundo\""
   ]
  },
  {
   "cell_type": "code",
   "execution_count": 19,
   "metadata": {},
   "outputs": [],
   "source": [
    " TRue = 1"
   ]
  },
  {
   "cell_type": "code",
   "execution_count": 22,
   "metadata": {},
   "outputs": [
    {
     "name": "stdout",
     "output_type": "stream",
     "text": [
      "1\n"
     ]
    }
   ],
   "source": [
    "cualquier_nombre_de_variable_puede_usarse = 1 \n",
    "print (cualquier_nombre_de_variable_puede_usarse)"
   ]
  },
  {
   "cell_type": "code",
   "execution_count": 23,
   "metadata": {},
   "outputs": [],
   "source": [
    "Import = 1 "
   ]
  },
  {
   "cell_type": "code",
   "execution_count": 32,
   "metadata": {},
   "outputs": [
    {
     "name": "stdout",
     "output_type": "stream",
     "text": [
      "3.3333333333333335\n"
     ]
    }
   ],
   "source": [
    "x = 10 \n",
    "x = x / 3\n",
    "print (x)"
   ]
  },
  {
   "cell_type": "code",
   "execution_count": 33,
   "metadata": {},
   "outputs": [
    {
     "name": "stdout",
     "output_type": "stream",
     "text": [
      "3.3333333333333335\n"
     ]
    }
   ],
   "source": [
    "x = 10\n",
    "x /= 3\n",
    "print (x)"
   ]
  },
  {
   "cell_type": "code",
   "execution_count": 51,
   "metadata": {},
   "outputs": [
    {
     "data": {
      "text/plain": [
       "'\\n\\ncomentarios de multiples lineas \\nestefania delgado cruz\\nes \\n\\n'"
      ]
     },
     "execution_count": 51,
     "metadata": {},
     "output_type": "execute_result"
    }
   ],
   "source": [
    "# comentario de una sola linea \n",
    "\"\"\"\n",
    "\n",
    "comentarios de multiples lineas \n",
    "estefania delgado cruz\n",
    "es \n",
    "\n",
    "\"\"\""
   ]
  },
  {
   "cell_type": "code",
   "execution_count": 40,
   "metadata": {},
   "outputs": [
    {
     "name": "stdout",
     "output_type": "stream",
     "text": [
      "\n"
     ]
    }
   ],
   "source": [
    "print ()"
   ]
  },
  {
   "cell_type": "code",
   "execution_count": 45,
   "metadata": {},
   "outputs": [
    {
     "name": "stdout",
     "output_type": "stream",
     "text": [
      "Dime algoHola como estas\n",
      "Mmm... Hola como estas ...¿en serio? \n"
     ]
    }
   ],
   "source": [
    "\n",
    "algo = input (\"Dime algo\")\n",
    "print (\"Mmm...\", algo , \"...¿en serio? \")"
   ]
  },
  {
   "cell_type": "code",
   "execution_count": 48,
   "metadata": {},
   "outputs": [
    {
     "name": "stdout",
     "output_type": "stream",
     "text": [
      "Dame un numero para multiplicar10\n",
      "2\n"
     ]
    }
   ],
   "source": [
    "x = int (input (\"Dame un numero para multiplicar\"))\n",
    "z= x // 5\n",
    "print (z)"
   ]
  },
  {
   "cell_type": "code",
   "execution_count": 50,
   "metadata": {},
   "outputs": [
    {
     "name": "stdout",
     "output_type": "stream",
     "text": [
      "Inserta la longitud del primer cateto: 15\n",
      "Inserta la longitud del segundo cateto: 10\n",
      "La longitud de la hipotenusa es:  18.027756377319946\n"
     ]
    }
   ],
   "source": [
    "cateto_a = float (input (\"Inserta la longitud del primer cateto: \"))\n",
    "cateto_b = float (input (\"Inserta la longitud del segundo cateto: \"))\n",
    "hipo = (cateto_a**2 + cateto_b**2) ** .5\n",
    "print (\"La longitud de la hipotenusa es: \", hipo)"
   ]
  },
  {
   "cell_type": "code",
   "execution_count": 54,
   "metadata": {
    "scrolled": true
   },
   "outputs": [
    {
     "name": "stdout",
     "output_type": "stream",
     "text": [
      "¿Me puedes dar tu nombre por favor?Estefania \n",
      "¿Me pueder dar tu apellido por favorDelgado\n",
      "Gracias.\n",
      "\n",
      "Tu nombre es Estefania  Delgado.\n"
     ]
    }
   ],
   "source": [
    "nom = input (\"¿Me puedes dar tu nombre por favor?\")\n",
    "ape = input (\"¿Me pueder dar tu apellido por favor\")\n",
    "print (\"Gracias.\")\n",
    "print (\"\\nTu nombre es \" + nom + \" \" + ape + \".\")"
   ]
  },
  {
   "cell_type": "code",
   "execution_count": 55,
   "metadata": {},
   "outputs": [
    {
     "name": "stdout",
     "output_type": "stream",
     "text": [
      "22222\n",
      "10\n"
     ]
    }
   ],
   "source": [
    "print (\"2\" * 5)\n",
    "print ( 2 * 5)"
   ]
  },
  {
   "cell_type": "code",
   "execution_count": 72,
   "metadata": {},
   "outputs": [
    {
     "name": "stdout",
     "output_type": "stream",
     "text": [
      " b es mayor que a \n",
      " Fin de if \n"
     ]
    }
   ],
   "source": [
    "a = 3000\n",
    "b = 12500\n",
    "if b > a: \n",
    "    print (\" b es mayor que a \")\n",
    "else:\n",
    "    print (\" a es mayor que b \")\n",
    "  \n",
    "print ( \" Fin de if \")"
   ]
  },
  {
   "cell_type": "code",
   "execution_count": 63,
   "metadata": {},
   "outputs": [
    {
     "name": "stdout",
     "output_type": "stream",
     "text": [
      " b es mayor que a \n",
      " b vale => 12500\n",
      " Fin de if \n"
     ]
    }
   ],
   "source": [
    "a = 3000\n",
    "b = 12500\n",
    "if b > a: \n",
    "    print (\" b es mayor que a \")\n",
    "    print (\" b vale =>\", b)\n",
    "else:\n",
    "    print (\" a es mayor que b \")\n",
    "    print (\" a vale =>\", a)\n",
    "print ( \" Fin de if \")\n",
    "\n",
    "        "
   ]
  },
  {
   "cell_type": "code",
   "execution_count": 71,
   "metadata": {},
   "outputs": [
    {
     "name": "stdout",
     "output_type": "stream",
     "text": [
      " a es mayor que b\n",
      " a y b valen => 300\n",
      "Fin del if\n"
     ]
    }
   ],
   "source": [
    "a = 3000\n",
    "b = 3000 \n",
    "if b > a:\n",
    "    print (\"b es mayor que a\" )\n",
    "    print (\"a vale =>\", a )\n",
    "elif a==b: \n",
    "    print (\" a es mayor que b\")\n",
    "    print (\" a y b valen =>\", a )\n",
    "else: \n",
    "    print (\" a es mayor que b \")\n",
    "    print (\"a vale =>\", a) \n",
    "\n",
    "print (\"Fin del if\")\n"
   ]
  },
  {
   "cell_type": "code",
   "execution_count": 83,
   "metadata": {},
   "outputs": [
    {
     "name": "stdout",
     "output_type": "stream",
     "text": [
      " a es mayor que b\n",
      " a y b valen => 300\n",
      "Fin del if\n"
     ]
    }
   ],
   "source": [
    "a = 300\n",
    "b = 300 \n",
    "if b > a:\n",
    "    print (\"b es mayor que a\" )\n",
    "    print (\"a vale =>\", a )\n",
    "if a==b: \n",
    "    print (\" a es mayor que b\")\n",
    "    print (\" a y b valen =>\", a )\n",
    "if b < a: \n",
    "    print (\" a es mayor que b \")\n",
    "    print (\"a vale =>\", a) \n",
    "\n",
    "print (\"Fin del if\")"
   ]
  },
  {
   "cell_type": "code",
   "execution_count": 73,
   "metadata": {},
   "outputs": [
    {
     "name": "stdout",
     "output_type": "stream",
     "text": [
      " y es menor que x \n"
     ]
    }
   ],
   "source": [
    "# if y if.. else en version corta o simplificada \n",
    "x = 50 \n",
    "y = 30\n",
    "\n",
    "print (\" y es menor que x \") if x > y else print (\" x es mayor que y\")\n"
   ]
  },
  {
   "cell_type": "code",
   "execution_count": 81,
   "metadata": {},
   "outputs": [
    {
     "name": "stdout",
     "output_type": "stream",
     "text": [
      "1\n",
      "Hola\n",
      "2\n",
      "Hola\n",
      "3\n",
      "Hola\n",
      "4\n",
      "Hola\n",
      "5\n",
      "Hola\n",
      "6\n",
      "Hola\n",
      "7\n",
      "Hola\n",
      "8\n",
      "Hola\n",
      "9\n",
      "Hola\n",
      "Entro al if\n",
      "Fuera del while\n"
     ]
    }
   ],
   "source": [
    "i= 1\n",
    "while i <= 100:\n",
    "    print (i) \n",
    "    i += 1\n",
    "    print (\"Hola\")\n",
    "    if i == 10:\n",
    "        print (\"Entro al if\")\n",
    "        break \n",
    "    i += 1\n",
    "print (\"Fuera del while\")"
   ]
  },
  {
   "cell_type": "code",
   "execution_count": null,
   "metadata": {},
   "outputs": [
    {
     "name": "stdout",
     "output_type": "stream",
     "text": [
      "\n",
      "+==================================+\n",
      "| 1-. Opcion 1                     |\n",
      "| 2-. Opcion 2                     |\n",
      "| 3-. Opcion 3                     |\n",
      "+==================================+\n",
      "\n"
     ]
    }
   ],
   "source": [
    "print(\n",
    "\"\"\"\n",
    "+==================================+\n",
    "| 1-. Opcion 1                     |\n",
    "| 2-. Opcion 2                     |\n",
    "| 3-. Opcion 3                     |\n",
    "+==================================+\n",
    "\"\"\")\n",
    "opcion = input (\"¿Cual es la opcion que deseas?\")"
   ]
  },
  {
   "cell_type": "code",
   "execution_count": null,
   "metadata": {},
   "outputs": [],
   "source": []
  }
 ],
 "metadata": {
  "kernelspec": {
   "display_name": "Python 3",
   "language": "python",
   "name": "python3"
  },
  "language_info": {
   "codemirror_mode": {
    "name": "ipython",
    "version": 3
   },
   "file_extension": ".py",
   "mimetype": "text/x-python",
   "name": "python",
   "nbconvert_exporter": "python",
   "pygments_lexer": "ipython3",
   "version": "3.8.3"
  }
 },
 "nbformat": 4,
 "nbformat_minor": 4
}
