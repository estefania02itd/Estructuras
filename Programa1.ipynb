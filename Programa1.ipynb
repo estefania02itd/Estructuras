{
 "cells": [
  {
   "cell_type": "markdown",
   "metadata": {},
   "source": [
    "# Esefania Delgado Cruz\n",
    "## Estructura y Organizacion de Datos\n",
    "### La funciòn print "
   ]
  },
  {
   "cell_type": "code",
   "execution_count": 33,
   "metadata": {},
   "outputs": [
    {
     "name": "stdout",
     "output_type": "stream",
     "text": [
      "5\n",
      "¡Hola,Mundo!\n",
      "El valor de x es 5 El valor de y es: 7\n"
     ]
    }
   ],
   "source": [
    "x=5\n",
    "y=7 \n",
    "print (x)\n",
    "print (\"¡Hola,Mundo!\")\n",
    "print ('El valor de x es', x ,'El valor de y es:', y)"
   ]
  },
  {
   "cell_type": "code",
   "execution_count": 34,
   "metadata": {},
   "outputs": [
    {
     "name": "stdout",
     "output_type": "stream",
     "text": [
      "El valor de x es: 5 *** El valor de 'y' es:  7\n",
      "Holas\n"
     ]
    }
   ],
   "source": [
    "#Usamos el parametro end para especificar cual es el terminador de linea en una instruccion print. \n",
    "print ('El valor de x es:', x , end = ' *** ')\n",
    "print ('El valor de \\'y\\' es: ', y)\n",
    "print ( \"Holas\")"
   ]
  },
  {
   "cell_type": "markdown",
   "metadata": {},
   "source": [
    " Epecificar el texto que separa los argumentos de la funcion **print**. \n",
    " Utilizamos el parametro **sep** para indicar el separador de argumentos. \n",
    "\n"
   ]
  },
  {
   "cell_type": "code",
   "execution_count": 35,
   "metadata": {
    "scrolled": true
   },
   "outputs": [
    {
     "name": "stdout",
     "output_type": "stream",
     "text": [
      "El valor de x es -> 5\n",
      "El valor de 'y' es:  7\n"
     ]
    }
   ],
   "source": [
    "#Especificar el texto que separa los argumentos de la funcion. \n",
    "#Usamos el parametro sep para indicar el separador de argumentos. \n",
    "print ('El valor de x es' , x , sep = ' -> ')\n",
    "print ('El valor de \\'y\\' es: ' , y)\n"
   ]
  },
  {
   "cell_type": "code",
   "execution_count": 39,
   "metadata": {},
   "outputs": [
    {
     "name": "stdout",
     "output_type": "stream",
     "text": [
      "El valor de x es: -> 5\n",
      "\n",
      "\n",
      "El valor de 'y' es:  7\n"
     ]
    }
   ],
   "source": [
    " # Especificar separador de argumentos y separador de linea. \n",
    "print ('El valor de x es:' , x , sep = ' -> ', end = '\\n\\n\\n')\n",
    "print ('El valor de \\'y\\' es: ' , y)\n",
    "    "
   ]
  },
  {
   "cell_type": "markdown",
   "metadata": {},
   "source": [
    "### Literales"
   ]
  },
  {
   "cell_type": "code",
   "execution_count": 40,
   "metadata": {},
   "outputs": [
    {
     "name": "stdout",
     "output_type": "stream",
     "text": [
      "Texto\n"
     ]
    }
   ],
   "source": [
    "x= 1100000\n",
    "x= 123.87\n",
    "x= \"Texto\"\n",
    "print (x)"
   ]
  },
  {
   "cell_type": "code",
   "execution_count": 42,
   "metadata": {},
   "outputs": [
    {
     "name": "stdout",
     "output_type": "stream",
     "text": [
      "55000000\n"
     ]
    }
   ],
   "source": [
    "#Numeros con separadores de miles\n",
    "#Forzosamente debe utilizarse un guion\n",
    "x = 11_000_000\n",
    "y = 5\n",
    "print (x * y)"
   ]
  },
  {
   "cell_type": "code",
   "execution_count": 43,
   "metadata": {},
   "outputs": [],
   "source": [
    "#Valores octales\n",
    "x = 0o12345 "
   ]
  },
  {
   "cell_type": "code",
   "execution_count": 44,
   "metadata": {},
   "outputs": [
    {
     "name": "stdout",
     "output_type": "stream",
     "text": [
      "5349\n"
     ]
    }
   ],
   "source": [
    "print(x)"
   ]
  },
  {
   "cell_type": "code",
   "execution_count": 45,
   "metadata": {},
   "outputs": [
    {
     "name": "stdout",
     "output_type": "stream",
     "text": [
      "74565\n"
     ]
    }
   ],
   "source": [
    "#Valores hexadecimales\n",
    "x = 0x12345\n",
    "print (x)"
   ]
  },
  {
   "cell_type": "code",
   "execution_count": 46,
   "metadata": {},
   "outputs": [
    {
     "name": "stdout",
     "output_type": "stream",
     "text": [
      "0.5\n"
     ]
    }
   ],
   "source": [
    "z = .5\n",
    "print (z)"
   ]
  },
  {
   "cell_type": "code",
   "execution_count": 49,
   "metadata": {},
   "outputs": [],
   "source": [
    "v1 = 30000000\n",
    "v2 = 3.1e8"
   ]
  },
  {
   "cell_type": "code",
   "execution_count": 48,
   "metadata": {},
   "outputs": [
    {
     "name": "stdout",
     "output_type": "stream",
     "text": [
      "30000000 300000000.0\n"
     ]
    }
   ],
   "source": [
    "print ( v1,v2)"
   ]
  },
  {
   "cell_type": "code",
   "execution_count": 50,
   "metadata": {},
   "outputs": [
    {
     "name": "stdout",
     "output_type": "stream",
     "text": [
      "80.0\n"
     ]
    }
   ],
   "source": [
    "w = 0.08e3\n",
    "print(w)\n"
   ]
  },
  {
   "cell_type": "code",
   "execution_count": 51,
   "metadata": {},
   "outputs": [
    {
     "name": "stdout",
     "output_type": "stream",
     "text": [
      "I'm a girl\n"
     ]
    }
   ],
   "source": [
    "x = \"I'm a girl\"\n",
    "print (x)"
   ]
  }
 ],
 "metadata": {
  "kernelspec": {
   "display_name": "Python 3",
   "language": "python",
   "name": "python3"
  },
  "language_info": {
   "codemirror_mode": {
    "name": "ipython",
    "version": 3
   },
   "file_extension": ".py",
   "mimetype": "text/x-python",
   "name": "python",
   "nbconvert_exporter": "python",
   "pygments_lexer": "ipython3",
   "version": "3.8.3"
  }
 },
 "nbformat": 4,
 "nbformat_minor": 4
}
