{
 "cells": [
  {
   "cell_type": "code",
   "execution_count": 23,
   "metadata": {},
   "outputs": [
    {
     "name": "stdout",
     "output_type": "stream",
     "text": [
      "60.31143162393162\n",
      "31.36194444444444\n",
      "23.52145833333333\n",
      "3.90046050880437\n",
      "7.49037479875489\n",
      "10.008415688549084\n"
     ]
    }
   ],
   "source": [
    "def l100kmtompg(litros):\n",
    "    miles = 100 * 1000 / 1609.344 #62.1371\n",
    "    galones = litros / 3.785411784\n",
    "    return miles / galones \n",
    "\n",
    "def mpgtol100km(miles):\n",
    "    litros = 3.7851411784\n",
    "    kilometros = miles * 1609.344 / 1000\n",
    "    km100 = kilometros / 100\n",
    "    return litros / km100\n",
    "\n",
    "print(l100kmtompg(3.9))\n",
    "print(l100kmtompg(7.5))\n",
    "print(l100kmtompg(10.))\n",
    "print(mpgtol100km(60.3))\n",
    "print(mpgtol100km(31.4))\n",
    "print(mpgtol100km(23.5))"
   ]
  }
 ],
 "metadata": {
  "kernelspec": {
   "display_name": "Python 3",
   "language": "python",
   "name": "python3"
  },
  "language_info": {
   "codemirror_mode": {
    "name": "ipython",
    "version": 3
   },
   "file_extension": ".py",
   "mimetype": "text/x-python",
   "name": "python",
   "nbconvert_exporter": "python",
   "pygments_lexer": "ipython3",
   "version": "3.8.3"
  }
 },
 "nbformat": 4,
 "nbformat_minor": 4
}
