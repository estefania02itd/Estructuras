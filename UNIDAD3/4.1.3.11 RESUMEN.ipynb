{
 "cells": [
  {
   "cell_type": "code",
   "execution_count": 1,
   "metadata": {},
   "outputs": [
    {
     "name": "stdout",
     "output_type": "stream",
     "text": [
      "12\n",
      "None\n"
     ]
    }
   ],
   "source": [
    "def multiply(a, b):\n",
    "    return a * b\n",
    "\n",
    "print(multiply(3, 4))    # salida: 12\n",
    "\n",
    "def multiply(a, b):\n",
    "    return\n",
    "\n",
    "print(multiply(3, 4))    # salida: None "
   ]
  },
  {
   "cell_type": "code",
   "execution_count": 2,
   "metadata": {},
   "outputs": [
    {
     "name": "stdout",
     "output_type": "stream",
     "text": [
      "¡Felíz Cumpleaños!\n"
     ]
    }
   ],
   "source": [
    "def deseos():\n",
    "    return \"¡Felíz Cumpleaños!\"\n",
    "\n",
    "d = deseos()\n",
    "\n",
    "print(d)    # salida: ¡Felíz Cumpleaños!"
   ]
  },
  {
   "cell_type": "code",
   "execution_count": 3,
   "metadata": {},
   "outputs": [
    {
     "name": "stdout",
     "output_type": "stream",
     "text": [
      "Mis deseos\n",
      "Mis Deseos\n",
      "¡Feliz Cumpleaños!\n"
     ]
    }
   ],
   "source": [
    "def deseos():\n",
    "    print(\"Mis deseos\")\n",
    "    return \"¡Felíz Cumpleaños!\"\n",
    "\n",
    "deseos()    # salida: Mis deseos\n",
    "\n",
    "\n",
    "# Ejemplo 2\n",
    "def deseos():\n",
    "    print(\"Mis Deseos\")\n",
    "    return \"¡Feliz Cumpleaños!\"\n",
    "\n",
    "print(deseos())    # salidas: Mis Deseos\n",
    "                   #          ¡Feliz Cumpleaños!"
   ]
  },
  {
   "cell_type": "code",
   "execution_count": 4,
   "metadata": {},
   "outputs": [
    {
     "name": "stdout",
     "output_type": "stream",
     "text": [
      "Hola, Adam\n",
      "Hola, John\n",
      "Hola, Lucy\n"
     ]
    }
   ],
   "source": [
    "def HolaaTodos(myList):\n",
    "    for nombre in myList:\n",
    "        print(\"Hola,\", nombre)\n",
    "\n",
    "HolaaTodos([\"Adam\", \"John\", \"Lucy\"])"
   ]
  },
  {
   "cell_type": "code",
   "execution_count": 5,
   "metadata": {},
   "outputs": [
    {
     "name": "stdout",
     "output_type": "stream",
     "text": [
      "[0, 1, 2, 3, 4]\n"
     ]
    }
   ],
   "source": [
    "def createList(n):\n",
    "    myList = []\n",
    "    for i in range(n):\n",
    "        myList.append(i)\n",
    "    return myList\n",
    "\n",
    "print(createList(5))"
   ]
  },
  {
   "cell_type": "code",
   "execution_count": 6,
   "metadata": {},
   "outputs": [],
   "source": [
    "def hola():\n",
    "    return\n",
    "    print(\"¡Hola!\")\n",
    "\n",
    "hola()\n"
   ]
  },
  {
   "cell_type": "code",
   "execution_count": 7,
   "metadata": {},
   "outputs": [
    {
     "name": "stdout",
     "output_type": "stream",
     "text": [
      "True\n",
      "False\n",
      "None\n"
     ]
    }
   ],
   "source": [
    " def isInt(data):\n",
    "    if type(data) == int:\n",
    "        return True\n",
    "    elif type(data) == float:\n",
    "        return False \n",
    "    \n",
    "print(isInt(5))\n",
    "print(isInt(5.0))\n",
    "print(isInt(\"5\")) "
   ]
  },
  {
   "cell_type": "code",
   "execution_count": 8,
   "metadata": {},
   "outputs": [
    {
     "name": "stdout",
     "output_type": "stream",
     "text": [
      "[0, 2, 4, 6, 8, 10]\n"
     ]
    }
   ],
   "source": [
    "def evenNumLst(ran):\n",
    "    lst = []\n",
    "    for num in range(ran):\n",
    "        if num % 2 == 0:\n",
    "            lst.append(num)\n",
    "    return lst\n",
    "\n",
    "print(evenNumLst(11))"
   ]
  },
  {
   "cell_type": "code",
   "execution_count": 9,
   "metadata": {},
   "outputs": [
    {
     "name": "stdout",
     "output_type": "stream",
     "text": [
      "[1, 4, 9, 16, 25]\n"
     ]
    }
   ],
   "source": [
    "def listUpdater(lst):\n",
    "    updList = []\n",
    "    for elem in lst:\n",
    "        elem **= 2\n",
    "        updList.append(elem)\n",
    "    return updList\n",
    "\n",
    "l = [1, 2, 3, 4, 5]\n",
    "print(listUpdater(l))"
   ]
  }
 ],
 "metadata": {
  "kernelspec": {
   "display_name": "Python 3",
   "language": "python",
   "name": "python3"
  },
  "language_info": {
   "codemirror_mode": {
    "name": "ipython",
    "version": 3
   },
   "file_extension": ".py",
   "mimetype": "text/x-python",
   "name": "python",
   "nbconvert_exporter": "python",
   "pygments_lexer": "ipython3",
   "version": "3.8.3"
  }
 },
 "nbformat": 4,
 "nbformat_minor": 4
}
