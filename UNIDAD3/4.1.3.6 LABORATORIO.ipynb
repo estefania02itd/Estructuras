{
 "cells": [
  {
   "cell_type": "code",
   "execution_count": 43,
   "metadata": {},
   "outputs": [
    {
     "name": "stdout",
     "output_type": "stream",
     "text": [
      "1900 ->True\n",
      "2000 ->True\n",
      "2016 ->True\n",
      "1987 ->True\n"
     ]
    }
   ],
   "source": [
    "def esunañobisiesto(año):\n",
    "    if año < 1582: \n",
    "        return False \n",
    "    elif año %4 !=0:\n",
    "        return False\n",
    "    elif año % 100 !=0: \n",
    "         return True\n",
    "    elif año %400 !=0:\n",
    "        return False \n",
    "    else:\n",
    "        return True\n",
    "\n",
    "datos = [1900,2000,2016,1987]\n",
    "resultado = [False,True,True,False]\n",
    "for i in range (len(datos)):\n",
    "    año = datos[i]\n",
    "    print (año, \"->\",end=\"\")\n",
    "    res=esunañobisiesto(año)\n",
    "    if res == resultado[i]:\n",
    "        print (\"True\")\n",
    "    else:\n",
    "        print (\"False\")\n",
    "    \n",
    "  "
   ]
  },
  {
   "cell_type": "code",
   "execution_count": null,
   "metadata": {},
   "outputs": [],
   "source": []
  }
 ],
 "metadata": {
  "kernelspec": {
   "display_name": "Python 3",
   "language": "python",
   "name": "python3"
  },
  "language_info": {
   "codemirror_mode": {
    "name": "ipython",
    "version": 3
   },
   "file_extension": ".py",
   "mimetype": "text/x-python",
   "name": "python",
   "nbconvert_exporter": "python",
   "pygments_lexer": "ipython3",
   "version": "3.8.3"
  }
 },
 "nbformat": 4,
 "nbformat_minor": 4
}
