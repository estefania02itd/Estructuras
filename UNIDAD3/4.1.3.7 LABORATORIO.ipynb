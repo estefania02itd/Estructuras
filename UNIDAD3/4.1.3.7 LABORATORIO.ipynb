{
 "cells": [
  {
   "cell_type": "code",
   "execution_count": 31,
   "metadata": {},
   "outputs": [
    {
     "name": "stdout",
     "output_type": "stream",
     "text": [
      "1900 2 ->error\n",
      "2000 2 ->ok\n",
      "2016 1 ->ok\n",
      "1987 11 ->error\n"
     ]
    }
   ],
   "source": [
    "def añobisiesto(año):\n",
    "    if año < 1582:\n",
    "        return False \n",
    "    elif año %4 != 0:\n",
    "        return False \n",
    "    elif año %100 != 0:\n",
    "        return True\n",
    "    elif año %400 != 0:\n",
    "        return False \n",
    "    else: \n",
    "        return True\n",
    "\n",
    "def diasdelmes(año, mes):\n",
    "    diasdelmes = [31,28,31,30,31,30,31,31,30,31,30,31]\n",
    "    if añobisiesto(año):\n",
    "        if mes == 2:\n",
    "            return 29\n",
    "        return diasdelmes[mes - 1]\n",
    "\n",
    "años = [1900, 2000, 2016, 1987]\n",
    "meses = [2, 2, 1, 11]\n",
    "resultado = [28, 29, 31, 30]\n",
    "for i in range(len(años)):\n",
    "    añ = años[i]\n",
    "    me = meses[i]\n",
    "    print(añ, me, \"->\", end =\"\")\n",
    "    res = diasdelmes(añ, me)\n",
    "    if res == resultado[i]:\n",
    "        \n",
    "        print(\"ok\")    \n",
    "    else:\n",
    "        print (\"error\")"
   ]
  },
  {
   "cell_type": "code",
   "execution_count": null,
   "metadata": {},
   "outputs": [],
   "source": []
  }
 ],
 "metadata": {
  "kernelspec": {
   "display_name": "Python 3",
   "language": "python",
   "name": "python3"
  },
  "language_info": {
   "codemirror_mode": {
    "name": "ipython",
    "version": 3
   },
   "file_extension": ".py",
   "mimetype": "text/x-python",
   "name": "python",
   "nbconvert_exporter": "python",
   "pygments_lexer": "ipython3",
   "version": "3.8.3"
  }
 },
 "nbformat": 4,
 "nbformat_minor": 4
}
