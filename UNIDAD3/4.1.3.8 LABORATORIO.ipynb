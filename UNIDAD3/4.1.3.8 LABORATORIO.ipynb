{
 "cells": [
  {
   "cell_type": "code",
   "execution_count": 28,
   "metadata": {},
   "outputs": [
    {
     "name": "stdout",
     "output_type": "stream",
     "text": [
      "366\n"
     ]
    }
   ],
   "source": [
    "def añobisiesto(año):\n",
    "    if año < 1582:\n",
    "        return False \n",
    "    elif año %4 != 0:\n",
    "        return False \n",
    "    elif año %100 != 0:\n",
    "        return True\n",
    "    elif año %400 != 0:\n",
    "        return False \n",
    "    else: \n",
    "        return True\n",
    "\n",
    "def diasdelmes(año, mes):\n",
    "    diasdelmes = [31,28,31,30,31,30,31,31,30,31,30,31]\n",
    "    if añobisiesto(año):\n",
    "        if mes == 2:\n",
    "            return 29\n",
    "        return diasdelmes[mes - 1]\n",
    "    \n",
    "def diaporaño(año,mes,dia):\n",
    "    \n",
    "    if año < 1582:\n",
    "        return None\n",
    "    if mes > 12 or mes < 1:\n",
    "         return None\n",
    "    if dia >  diasdelmes(año, mes) or dia < 1:\n",
    "         return None\n",
    "        \n",
    "    diastotales=dia\n",
    "    mes = mes -1\n",
    "    while mes > 0: \n",
    "        diastotales += diasdelmes(año, mes)\n",
    "        mes -= 1\n",
    "            \n",
    "    return diastotales\n",
    "    \n",
    "print (diaporaño(2000, 12, 31))\n",
    "\n",
    "        "
   ]
  },
  {
   "cell_type": "code",
   "execution_count": null,
   "metadata": {},
   "outputs": [],
   "source": []
  }
 ],
 "metadata": {
  "kernelspec": {
   "display_name": "Python 3",
   "language": "python",
   "name": "python3"
  },
  "language_info": {
   "codemirror_mode": {
    "name": "ipython",
    "version": 3
   },
   "file_extension": ".py",
   "mimetype": "text/x-python",
   "name": "python",
   "nbconvert_exporter": "python",
   "pygments_lexer": "ipython3",
   "version": "3.8.3"
  }
 },
 "nbformat": 4,
 "nbformat_minor": 4
}
