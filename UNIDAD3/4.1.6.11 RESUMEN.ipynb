{
 "cells": [
  {
   "cell_type": "code",
   "execution_count": 1,
   "metadata": {},
   "outputs": [
    {
     "ename": "NameError",
     "evalue": "name 'clave1' is not defined",
     "output_type": "error",
     "traceback": [
      "\u001b[1;31m---------------------------------------------------------------------------\u001b[0m",
      "\u001b[1;31mNameError\u001b[0m                                 Traceback (most recent call last)",
      "\u001b[1;32m<ipython-input-1-0af64ba37b7e>\u001b[0m in \u001b[0;36m<module>\u001b[1;34m\u001b[0m\n\u001b[0;32m      1\u001b[0m miDictionario = {\n\u001b[1;32m----> 2\u001b[1;33m     \u001b[0mclave1\u001b[0m \u001b[1;33m:\u001b[0m \u001b[0mvalor1\u001b[0m\u001b[1;33m,\u001b[0m\u001b[1;33m\u001b[0m\u001b[1;33m\u001b[0m\u001b[0m\n\u001b[0m\u001b[0;32m      3\u001b[0m     \u001b[0mclave2\u001b[0m \u001b[1;33m:\u001b[0m \u001b[0mvalor2\u001b[0m\u001b[1;33m,\u001b[0m\u001b[1;33m\u001b[0m\u001b[1;33m\u001b[0m\u001b[0m\n\u001b[0;32m      4\u001b[0m     \u001b[0mclave3\u001b[0m \u001b[1;33m:\u001b[0m \u001b[0mvalor3\u001b[0m\u001b[1;33m,\u001b[0m\u001b[1;33m\u001b[0m\u001b[1;33m\u001b[0m\u001b[0m\n\u001b[0;32m      5\u001b[0m     }\n",
      "\u001b[1;31mNameError\u001b[0m: name 'clave1' is not defined"
     ]
    }
   ],
   "source": [
    "miDictionario = {\n",
    "    clave1 : valor1,\n",
    "    clave2 : valor2,\n",
    "    clave3 : valor3,\n",
    "    }"
   ]
  },
  {
   "cell_type": "code",
   "execution_count": 3,
   "metadata": {},
   "outputs": [
    {
     "ename": "NameError",
     "evalue": "name 'elmento1' is not defined",
     "output_type": "error",
     "traceback": [
      "\u001b[1;31m---------------------------------------------------------------------------\u001b[0m",
      "\u001b[1;31mNameError\u001b[0m                                 Traceback (most recent call last)",
      "\u001b[1;32m<ipython-input-3-c436506a90da>\u001b[0m in \u001b[0;36m<module>\u001b[1;34m\u001b[0m\n\u001b[0;32m      5\u001b[0m     }\n\u001b[0;32m      6\u001b[0m \u001b[0melemento1\u001b[0m \u001b[1;33m=\u001b[0m \u001b[0mpolEspDict\u001b[0m\u001b[1;33m[\u001b[0m\u001b[1;34m\"gleba\"\u001b[0m\u001b[1;33m]\u001b[0m    \u001b[1;31m# ejemplo 1\u001b[0m\u001b[1;33m\u001b[0m\u001b[1;33m\u001b[0m\u001b[0m\n\u001b[1;32m----> 7\u001b[1;33m \u001b[0mprint\u001b[0m\u001b[1;33m(\u001b[0m\u001b[0melmento1\u001b[0m\u001b[1;33m)\u001b[0m    \u001b[1;31m# salida: tierra\u001b[0m\u001b[1;33m\u001b[0m\u001b[1;33m\u001b[0m\u001b[0m\n\u001b[0m\u001b[0;32m      8\u001b[0m \u001b[1;33m\u001b[0m\u001b[0m\n\u001b[0;32m      9\u001b[0m \u001b[0melemento2\u001b[0m \u001b[1;33m=\u001b[0m \u001b[0mpolEspDict\u001b[0m\u001b[1;33m.\u001b[0m\u001b[0mget\u001b[0m\u001b[1;33m(\u001b[0m\u001b[1;34m\"woda\"\u001b[0m\u001b[1;33m)\u001b[0m\u001b[1;33m\u001b[0m\u001b[1;33m\u001b[0m\u001b[0m\n",
      "\u001b[1;31mNameError\u001b[0m: name 'elmento1' is not defined"
     ]
    }
   ],
   "source": [
    "polEspDict = {\n",
    "    \"kwiat\" : \"flor\",\n",
    "    \"woda\"  : \"agua\",\n",
    "    \"gleba\" : \"tierra\"\n",
    "    }\n",
    "elemento1 = polEspDict[\"gleba\"]    # ejemplo 1\n",
    "print(elmento1)    # salida: tierra\n",
    "\n",
    "elemento2 = polEspDict.get(\"woda\")\n",
    "print(elemento2)    # salida: agua\n"
   ]
  },
  {
   "cell_type": "code",
   "execution_count": 4,
   "metadata": {},
   "outputs": [],
   "source": [
    "polEspDict = {\n",
    "    \"zamek\" : \"castillo\",\n",
    "    \"woda\"  : \"agua\",\n",
    "    \"gleba\" : \"tierra\"\n",
    "    }\n",
    "\n",
    "polEspDict[\"zamek\"] = \"cerradura\"\n",
    "item = polEspDict[\"zamek\"]    # salida: cerradura "
   ]
  },
  {
   "cell_type": "code",
   "execution_count": 5,
   "metadata": {},
   "outputs": [
    {
     "name": "stdout",
     "output_type": "stream",
     "text": [
      "{'Adan': 3456783958}\n",
      "{}\n"
     ]
    }
   ],
   "source": [
    "miDirectorioTelefonico = {}    # un diccionario vacio\n",
    "\n",
    "miDirectorioTelefonico [\"Adan\"] = 3456783958    # crear o añadir un par clave-valor\n",
    "print(miDirectorioTelefonico)    # salida: {'Adan': 3456783958}\n",
    "\n",
    "del miDirectorioTelefonico [\"Adan\"]\n",
    "print(miDirectorioTelefonico)    # salida: {}\n"
   ]
  },
  {
   "cell_type": "code",
   "execution_count": 6,
   "metadata": {},
   "outputs": [
    {
     "ename": "SyntaxError",
     "evalue": "invalid syntax (<ipython-input-6-75b7db649ce3>, line 3)",
     "output_type": "error",
     "traceback": [
      "\u001b[1;36m  File \u001b[1;32m\"<ipython-input-6-75b7db649ce3>\"\u001b[1;36m, line \u001b[1;32m3\u001b[0m\n\u001b[1;33m    polEspDict = update(\"gleba\" : \"tierra\")\u001b[0m\n\u001b[1;37m                                ^\u001b[0m\n\u001b[1;31mSyntaxError\u001b[0m\u001b[1;31m:\u001b[0m invalid syntax\n"
     ]
    }
   ],
   "source": [
    "polEspDict = {\"kwiat\" : \"flor\"}\n",
    "\n",
    "polEspDict = update(\"gleba\" : \"tierra\")\n",
    "print(polEspDict)    # salida: {'kwiat' : 'flor', 'gleba' : 'tierra'}\n",
    "\n",
    "polEspDict.popitem()\n",
    "print(polEspDict)    # outputs: {'kwiat' : 'flor'}"
   ]
  },
  {
   "cell_type": "code",
   "execution_count": 7,
   "metadata": {},
   "outputs": [
    {
     "name": "stdout",
     "output_type": "stream",
     "text": [
      "zamek\n",
      "woda\n",
      "gleba\n"
     ]
    }
   ],
   "source": [
    "polEspDict = {\n",
    "    \"zamek\" : \"castillo\",\n",
    "    \"woda\"  : \"agua\",\n",
    "    \"gleba\" : \"tierra\"\n",
    "    }\n",
    "\n",
    "for item in polEspDict:\n",
    "    print(item)    # salida: zamek\n",
    "                   #          woda\n",
    "                   #          gleba"
   ]
  },
  {
   "cell_type": "code",
   "execution_count": 8,
   "metadata": {},
   "outputs": [
    {
     "name": "stdout",
     "output_type": "stream",
     "text": [
      "Pol/Esp -> zamek : castillo\n",
      "Pol/Esp -> woda : agua\n",
      "Pol/Esp -> gleba : tierra\n"
     ]
    }
   ],
   "source": [
    "polEspDict = {\n",
    "    \"zamek\" : \"castillo\",\n",
    "    \"woda\"  : \"agua\",\n",
    "    \"gleba\" : \"tierra\"\n",
    "    }\n",
    "\n",
    "for clave, valor in polEspDict.items():\n",
    "    print(\"Pol/Esp ->\", clave, \":\", valor)"
   ]
  },
  {
   "cell_type": "code",
   "execution_count": 9,
   "metadata": {},
   "outputs": [
    {
     "name": "stdout",
     "output_type": "stream",
     "text": [
      "SI\n"
     ]
    }
   ],
   "source": [
    "polEspDict = {\n",
    "    \"zamek\" : \"castillo\",\n",
    "    \"woda\"  : \"agua\",\n",
    "    \"gleba\" : \"tierra\"\n",
    "    }\n",
    "\n",
    "if \"zamek\" in polEspDict:\n",
    "    print(\"SI\")\n",
    "else:\n",
    "    print(\"NO\")"
   ]
  },
  {
   "cell_type": "code",
   "execution_count": 10,
   "metadata": {},
   "outputs": [
    {
     "name": "stdout",
     "output_type": "stream",
     "text": [
      "3\n",
      "2\n",
      "0\n"
     ]
    }
   ],
   "source": [
    "polEspDict = {\n",
    "    \"zamek\" : \"castillo\",\n",
    "    \"woda\"  : \"agua\",\n",
    "    \"gleba\" : \"tierra\"\n",
    "    }\n",
    "\n",
    "print(len(polEspDict))    # salida: 3\n",
    "del polEspDict[\"zamek\"]    # elimina un elemento\n",
    "print(len(polEspDict))    # salida: 2\n",
    "\n",
    "polEspDict.clear()   # elimina todos los elementos\n",
    "print(len(polEspDict))    # salida: 0\n",
    "\n",
    "del polEspDict    # elimina el diccionario"
   ]
  },
  {
   "cell_type": "code",
   "execution_count": 12,
   "metadata": {},
   "outputs": [],
   "source": [
    "polEspDict = {\n",
    "    \"zamek\" : \"castillo\",\n",
    "    \"woda\"  : \"agua\",\n",
    "    \"gleba\" : \"tierra\"\n",
    "    }\n",
    "\n",
    "copyDict = polEspDict.copy()\n"
   ]
  },
  {
   "cell_type": "code",
   "execution_count": 13,
   "metadata": {},
   "outputs": [
    {
     "name": "stdout",
     "output_type": "stream",
     "text": [
      "3\n"
     ]
    }
   ],
   "source": [
    "miTup = (1, 2, 3)\n",
    "print(miTup[2])"
   ]
  },
  {
   "cell_type": "code",
   "execution_count": 14,
   "metadata": {},
   "outputs": [
    {
     "name": "stdout",
     "output_type": "stream",
     "text": [
      "6\n"
     ]
    }
   ],
   "source": [
    "tup = 1, 2, 3\n",
    "a, b, c = tup\n",
    "\n",
    "print(a * b * c)"
   ]
  },
  {
   "cell_type": "code",
   "execution_count": 15,
   "metadata": {},
   "outputs": [
    {
     "ename": "SyntaxError",
     "evalue": "invalid syntax (<ipython-input-15-559198cfa1fe>, line 2)",
     "output_type": "error",
     "traceback": [
      "\u001b[1;36m  File \u001b[1;32m\"<ipython-input-15-559198cfa1fe>\"\u001b[1;36m, line \u001b[1;32m2\u001b[0m\n\u001b[1;33m    duplicados = # tu código\u001b[0m\n\u001b[1;37m                 ^\u001b[0m\n\u001b[1;31mSyntaxError\u001b[0m\u001b[1;31m:\u001b[0m invalid syntax\n"
     ]
    }
   ],
   "source": [
    "tup = 1, 2, 3, 2, 4, 5, 6, 2, 7, 2, 8, 9\n",
    "duplicados = # tu código\n",
    "\n",
    "print(duplicados)    # salida: 4"
   ]
  },
  {
   "cell_type": "code",
   "execution_count": 16,
   "metadata": {},
   "outputs": [
    {
     "ename": "IndentationError",
     "evalue": "expected an indented block (<ipython-input-16-432a5c66cb97>, line 8)",
     "output_type": "error",
     "traceback": [
      "\u001b[1;36m  File \u001b[1;32m\"<ipython-input-16-432a5c66cb97>\"\u001b[1;36m, line \u001b[1;32m8\u001b[0m\n\u001b[1;33m    print(d3)\u001b[0m\n\u001b[1;37m    ^\u001b[0m\n\u001b[1;31mIndentationError\u001b[0m\u001b[1;31m:\u001b[0m expected an indented block\n"
     ]
    }
   ],
   "source": [
    "d1 = {'Adam Smith':'A', 'Judy Paxton':'B+'}\n",
    "d2 = {'Mary Louis':'A', 'Patrick White':'C'}\n",
    "d3 = {}\n",
    "\n",
    "for elemento in (d1, d2):\n",
    "    # tu código\n",
    "\n",
    "print(d3)\n"
   ]
  },
  {
   "cell_type": "code",
   "execution_count": 19,
   "metadata": {},
   "outputs": [
    {
     "name": "stdout",
     "output_type": "stream",
     "text": [
      "('carro', 'Ford', 'flor', 'Tulipán')\n"
     ]
    }
   ],
   "source": [
    "l = [\"carro\", \"Ford\", \"flor\", \"Tulipán\"]\n",
    "\n",
    "t = tuple(l)\n",
    "print(t)"
   ]
  },
  {
   "cell_type": "code",
   "execution_count": 20,
   "metadata": {},
   "outputs": [
    {
     "name": "stdout",
     "output_type": "stream",
     "text": [
      "{'verde': '#008000', 'azul': '#0000FF'}\n"
     ]
    }
   ],
   "source": [
    "colores = ((\"verde\", \"#008000\"), (\"azul\", \"#0000FF\"))\n",
    "\n",
    "colDict = dict(colores)\n",
    "print(colDict)"
   ]
  },
  {
   "cell_type": "code",
   "execution_count": 22,
   "metadata": {},
   "outputs": [
    {
     "ename": "NameError",
     "evalue": "name 'myDict' is not defined",
     "output_type": "error",
     "traceback": [
      "\u001b[1;31m---------------------------------------------------------------------------\u001b[0m",
      "\u001b[1;31mNameError\u001b[0m                                 Traceback (most recent call last)",
      "\u001b[1;32m<ipython-input-22-5ec1e1db44ed>\u001b[0m in \u001b[0;36m<module>\u001b[1;34m\u001b[0m\n\u001b[0;32m      1\u001b[0m \u001b[0mmiDict\u001b[0m \u001b[1;33m=\u001b[0m \u001b[1;33m{\u001b[0m\u001b[1;34m\"A\"\u001b[0m\u001b[1;33m:\u001b[0m\u001b[1;36m1\u001b[0m\u001b[1;33m,\u001b[0m \u001b[1;34m\"B\"\u001b[0m\u001b[1;33m:\u001b[0m\u001b[1;36m2\u001b[0m\u001b[1;33m}\u001b[0m\u001b[1;33m\u001b[0m\u001b[1;33m\u001b[0m\u001b[0m\n\u001b[1;32m----> 2\u001b[1;33m \u001b[0mcopyMiDict\u001b[0m \u001b[1;33m=\u001b[0m \u001b[0mmyDict\u001b[0m\u001b[1;33m.\u001b[0m\u001b[0mcopy\u001b[0m\u001b[1;33m(\u001b[0m\u001b[1;33m)\u001b[0m\u001b[1;33m\u001b[0m\u001b[1;33m\u001b[0m\u001b[0m\n\u001b[0m\u001b[0;32m      3\u001b[0m \u001b[0mmiDict\u001b[0m\u001b[1;33m.\u001b[0m\u001b[0mclear\u001b[0m\u001b[1;33m(\u001b[0m\u001b[1;33m)\u001b[0m\u001b[1;33m\u001b[0m\u001b[1;33m\u001b[0m\u001b[0m\n\u001b[0;32m      4\u001b[0m \u001b[1;33m\u001b[0m\u001b[0m\n\u001b[0;32m      5\u001b[0m \u001b[0mprint\u001b[0m\u001b[1;33m(\u001b[0m\u001b[0mcopyMiDict\u001b[0m\u001b[1;33m)\u001b[0m\u001b[1;33m\u001b[0m\u001b[1;33m\u001b[0m\u001b[0m\n",
      "\u001b[1;31mNameError\u001b[0m: name 'myDict' is not defined"
     ]
    }
   ],
   "source": [
    "miDict = {\"A\":1, \"B\":2}\n",
    "copyMiDict = myDict.copy()\n",
    "miDict.clear()\n",
    "\n",
    "print(copyMiDict)"
   ]
  },
  {
   "cell_type": "code",
   "execution_count": 23,
   "metadata": {},
   "outputs": [
    {
     "name": "stdout",
     "output_type": "stream",
     "text": [
      "blanco : (255, 255, 255)\n",
      "gris : (128, 128, 128)\n",
      "rojo : (255, 0, 0)\n",
      "verde : (0, 128, 0)\n"
     ]
    }
   ],
   "source": [
    "colores = {\n",
    "    \"blanco\" : (255, 255, 255),\n",
    "    \"gris\"   : (128, 128, 128),\n",
    "    \"rojo\"   : (255, 0, 0),\n",
    "    \"verde\"  : (0, 128, 0)\n",
    "    }\n",
    "\n",
    "for col, rgb in colores.items():\n",
    "    print(col, \":\", rgb)\n"
   ]
  }
 ],
 "metadata": {
  "kernelspec": {
   "display_name": "Python 3",
   "language": "python",
   "name": "python3"
  },
  "language_info": {
   "codemirror_mode": {
    "name": "ipython",
    "version": 3
   },
   "file_extension": ".py",
   "mimetype": "text/x-python",
   "name": "python",
   "nbconvert_exporter": "python",
   "pygments_lexer": "ipython3",
   "version": "3.8.3"
  }
 },
 "nbformat": 4,
 "nbformat_minor": 4
}
