{
 "cells": [
  {
   "cell_type": "code",
   "execution_count": 1,
   "metadata": {},
   "outputs": [
    {
     "name": "stdout",
     "output_type": "stream",
     "text": [
      "3\n"
     ]
    }
   ],
   "source": [
    "miTup = (1, 2, 3)\n",
    "print(miTup[2])"
   ]
  },
  {
   "cell_type": "code",
   "execution_count": 2,
   "metadata": {},
   "outputs": [
    {
     "name": "stdout",
     "output_type": "stream",
     "text": [
      "6\n"
     ]
    }
   ],
   "source": [
    "tup = 1, 2, 3\n",
    "a, b, c = tup\n",
    "\n",
    "print(a * b * c)"
   ]
  },
  {
   "cell_type": "code",
   "execution_count": 10,
   "metadata": {},
   "outputs": [
    {
     "ename": "IndentationError",
     "evalue": "unexpected indent (<ipython-input-10-4aaef88faf44>, line 3)",
     "output_type": "error",
     "traceback": [
      "\u001b[1;36m  File \u001b[1;32m\"<ipython-input-10-4aaef88faf44>\"\u001b[1;36m, line \u001b[1;32m3\u001b[0m\n\u001b[1;33m    print(duplicado)\u001b[0m\n\u001b[1;37m    ^\u001b[0m\n\u001b[1;31mIndentationError\u001b[0m\u001b[1;31m:\u001b[0m unexpected indent\n"
     ]
    }
   ],
   "source": [
    "tup = 1, 2, 3, 2, 4, 5, 6, 2, 7, 2, 8, 9\n",
    "duplicates = tup.count(2)\n",
    "    print(duplicado)\n",
    "    "
   ]
  },
  {
   "cell_type": "code",
   "execution_count": 11,
   "metadata": {},
   "outputs": [
    {
     "name": "stdout",
     "output_type": "stream",
     "text": [
      "{'Adam Smith': 'A', 'Judy Paxton': 'B+', 'Mary Louis': 'A', 'Patrick White': 'C'}\n"
     ]
    }
   ],
   "source": [
    "d1 = {'Adam Smith':'A', 'Judy Paxton':'B+'}\n",
    "d2 = {'Mary Louis':'A', 'Patrick White':'C'}\n",
    "d3 = {}\n",
    "\n",
    "for elemento in (d1, d2):\n",
    "    d3.update(elemento)\n",
    "\n",
    "print(d3)\n"
   ]
  },
  {
   "cell_type": "code",
   "execution_count": 12,
   "metadata": {},
   "outputs": [
    {
     "name": "stdout",
     "output_type": "stream",
     "text": [
      "('carro', 'Ford', 'flor', 'Tulipán')\n"
     ]
    }
   ],
   "source": [
    "l = [\"carro\", \"Ford\", \"flor\", \"Tulipán\"]\n",
    "\n",
    "t = tuple(l)\n",
    "print(t)"
   ]
  },
  {
   "cell_type": "code",
   "execution_count": 13,
   "metadata": {},
   "outputs": [
    {
     "name": "stdout",
     "output_type": "stream",
     "text": [
      "{'verde': '#008000', 'azul': '#0000FF'}\n"
     ]
    }
   ],
   "source": [
    "colores = ((\"verde\", \"#008000\"), (\"azul\", \"#0000FF\"))\n",
    "\n",
    "colDict = dict(colores)\n",
    "print(colDict)"
   ]
  },
  {
   "cell_type": "code",
   "execution_count": 18,
   "metadata": {},
   "outputs": [
    {
     "ename": "IndentationError",
     "evalue": "unindent does not match any outer indentation level (<tokenize>, line 4)",
     "output_type": "error",
     "traceback": [
      "\u001b[1;36m  File \u001b[1;32m\"<tokenize>\"\u001b[1;36m, line \u001b[1;32m4\u001b[0m\n\u001b[1;33m    print(copyMiDict)\u001b[0m\n\u001b[1;37m    ^\u001b[0m\n\u001b[1;31mIndentationError\u001b[0m\u001b[1;31m:\u001b[0m unindent does not match any outer indentation level\n"
     ]
    }
   ],
   "source": [
    "miDict = {\"A\":1, \"B\":2}\n",
    "   copyMiDict = myDict.copy()\n",
    "     miDict.clear()\n",
    "    print(copyMiDict)"
   ]
  },
  {
   "cell_type": "code",
   "execution_count": 19,
   "metadata": {},
   "outputs": [
    {
     "name": "stdout",
     "output_type": "stream",
     "text": [
      "blanco : (255, 255, 255)\n",
      "gris : (128, 128, 128)\n",
      "rojo : (255, 0, 0)\n",
      "verde : (0, 128, 0)\n"
     ]
    }
   ],
   "source": [
    "colores = {\n",
    "    \"blanco\" : (255, 255, 255),\n",
    "    \"gris\"   : (128, 128, 128),\n",
    "    \"rojo\"   : (255, 0, 0),\n",
    "    \"verde\"  : (0, 128, 0)\n",
    "    }\n",
    "\n",
    "for col, rgb in colores.items():\n",
    "    print(col, \":\", rgb)\n"
   ]
  },
  {
   "cell_type": "code",
   "execution_count": 23,
   "metadata": {},
   "outputs": [
    {
     "ename": "SyntaxError",
     "evalue": "invalid syntax (<ipython-input-23-deb8d2063d4a>, line 1)",
     "output_type": "error",
     "traceback": [
      "\u001b[1;36m  File \u001b[1;32m\"<ipython-input-23-deb8d2063d4a>\"\u001b[1;36m, line \u001b[1;32m1\u001b[0m\n\u001b[1;33m    def fun(in = 2, out = 3):\u001b[0m\n\u001b[1;37m            ^\u001b[0m\n\u001b[1;31mSyntaxError\u001b[0m\u001b[1;31m:\u001b[0m invalid syntax\n"
     ]
    }
   ],
   "source": [
    "def fun(in = 2, out = 3):\n",
    "    return in * out\n",
    "print (fun(3))"
   ]
  },
  {
   "cell_type": "code",
   "execution_count": 22,
   "metadata": {},
   "outputs": [
    {
     "name": "stdout",
     "output_type": "stream",
     "text": [
      "4\n"
     ]
    }
   ],
   "source": [
    "tup = (1, ) + (1, )\n",
    "tup = tup + tup\n",
    "print (len(tup))"
   ]
  }
 ],
 "metadata": {
  "kernelspec": {
   "display_name": "Python 3",
   "language": "python",
   "name": "python3"
  },
  "language_info": {
   "codemirror_mode": {
    "name": "ipython",
    "version": 3
   },
   "file_extension": ".py",
   "mimetype": "text/x-python",
   "name": "python",
   "nbconvert_exporter": "python",
   "pygments_lexer": "ipython3",
   "version": "3.8.3"
  }
 },
 "nbformat": 4,
 "nbformat_minor": 4
}
