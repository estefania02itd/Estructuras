{
 "cells": [
  {
   "cell_type": "code",
   "execution_count": 2,
   "metadata": {},
   "outputs": [
    {
     "name": "stdout",
     "output_type": "stream",
     "text": [
      "1.0\n",
      "0.99999999\n"
     ]
    }
   ],
   "source": [
    "from math import sin, pi ##importación selectiva.\n",
    "\n",
    "print(sin(pi/2))\n",
    "\n",
    "pi = 3.14 ##Uso de las entidades importadas.\n",
    "\n",
    "def sin(x):\n",
    "    if 2 * x == pi:\n",
    "##redefine el significado de pi y sin - en efecto.  \n",
    "        return 0.99999999 #retorna.\n",
    "    else:\n",
    "        return None\n",
    "\n",
    "print(sin(pi/2))"
   ]
  },
  {
   "cell_type": "code",
   "execution_count": 4,
   "metadata": {},
   "outputs": [
    {
     "name": "stdout",
     "output_type": "stream",
     "text": [
      "0.99999999\n",
      "1.0\n"
     ]
    }
   ],
   "source": [
    "#definen pi y sin.\n",
    "pi = 3.14\t# linea 01 \n",
    "\n",
    "def sin(x):\n",
    "    if 2 * x == pi:\n",
    "        #uso de ellas ( 0.99999999 aparece en pantalla)\n",
    "        return 0.99999999\n",
    "    else:\n",
    "        return None\t# linea 07\n",
    "\n",
    "print(sin(pi/2))\t# linea 09\n",
    "\n",
    "#importacion de simbolos y lineas que estan dentro del namespace\n",
    "from math import sin, pi\t# linea 12\n",
    "\n",
    "#retorna\n",
    "print(sin(pi/2))\t# linea 14 \n"
   ]
  },
  {
   "cell_type": "code",
   "execution_count": null,
   "metadata": {},
   "outputs": [],
   "source": []
  }
 ],
 "metadata": {
  "kernelspec": {
   "display_name": "Python 3",
   "language": "python",
   "name": "python3"
  },
  "language_info": {
   "codemirror_mode": {
    "name": "ipython",
    "version": 3
   },
   "file_extension": ".py",
   "mimetype": "text/x-python",
   "name": "python",
   "nbconvert_exporter": "python",
   "pygments_lexer": "ipython3",
   "version": "3.8.3"
  }
 },
 "nbformat": 4,
 "nbformat_minor": 4
}
