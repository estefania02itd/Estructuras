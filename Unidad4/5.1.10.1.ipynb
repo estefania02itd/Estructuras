{
 "cells": [
  {
   "cell_type": "code",
   "execution_count": 8,
   "metadata": {},
   "outputs": [
    {
     "data": {
      "text/plain": [
       "True"
      ]
     },
     "execution_count": 8,
     "metadata": {},
     "output_type": "execute_result"
    }
   ],
   "source": [
    "#compara valores de puntos de código, caracter por caracter. \n",
    "#Dos cadenas son iguales cuando consisten en los mismos caracteres en el mismo orden.\n",
    "\n",
    "'alfa' == 'alfa'\n",
    "'alfa' != 'Alfa'"
   ]
  },
  {
   "cell_type": "code",
   "execution_count": 10,
   "metadata": {},
   "outputs": [
    {
     "data": {
      "text/plain": [
       "True"
      ]
     },
     "execution_count": 10,
     "metadata": {},
     "output_type": "execute_result"
    }
   ],
   "source": [
    "#Comparar el primer caracter diferente en ambas cadenas.\n",
    "#La cadena más larga se considera mayor.\n",
    "#Las letras mayúsculas se consideran menores en comparación con las minúsculas\n",
    "'alfa' < 'alfabeto'"
   ]
  },
  {
   "cell_type": "code",
   "execution_count": null,
   "metadata": {},
   "outputs": [],
   "source": []
  }
 ],
 "metadata": {
  "kernelspec": {
   "display_name": "Python 3",
   "language": "python",
   "name": "python3"
  }
 },
 "nbformat": 4,
 "nbformat_minor": 4
}
