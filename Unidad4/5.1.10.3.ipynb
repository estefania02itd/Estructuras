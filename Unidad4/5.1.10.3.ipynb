{
 "cells": [
  {
   "cell_type": "code",
   "execution_count": 2,
   "metadata": {},
   "outputs": [
    {
     "name": "stdout",
     "output_type": "stream",
     "text": [
      "['omega', 'alfa', 'pi', 'gama']\n",
      "['alfa', 'gama', 'omega', 'pi']\n",
      "\n",
      "['omega', 'alfa', 'pi', 'gama']\n",
      "['alfa', 'gama', 'omega', 'pi']\n"
     ]
    }
   ],
   "source": [
    "# Demostración de la función sorted()\n",
    "#devuelve una nueva lista. \n",
    "firstGreek = ['omega', 'alfa', 'pi', 'gama']\n",
    "firstGreek2 = sorted(firstGreek)\n",
    "\n",
    "print(firstGreek)\n",
    "print(firstGreek2)\n",
    "\n",
    "print()\n",
    "\n",
    "# Demostración del método sort()\n",
    "#Afecta a la lista misma - no se crea una nueva lista. \n",
    "secondGreek = ['omega', 'alfa', 'pi', 'gama']\n",
    "print(secondGreek)\n",
    "\n",
    "secondGreek.sort()\n",
    "print(secondGreek)"
   ]
  },
  {
   "cell_type": "code",
   "execution_count": null,
   "metadata": {},
   "outputs": [],
   "source": []
  }
 ],
 "metadata": {
  "kernelspec": {
   "display_name": "Python 3",
   "language": "python",
   "name": "python3"
  },
  "language_info": {
   "codemirror_mode": {
    "name": "ipython",
    "version": 3
   },
   "file_extension": ".py",
   "mimetype": "text/x-python",
   "name": "python",
   "nbconvert_exporter": "python",
   "pygments_lexer": "ipython3",
   "version": "3.8.3"
  }
 },
 "nbformat": 4,
 "nbformat_minor": 4
}
