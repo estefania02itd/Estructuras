{
 "cells": [
  {
   "cell_type": "code",
   "execution_count": 3,
   "metadata": {},
   "outputs": [
    {
     "name": "stdout",
     "output_type": "stream",
     "text": [
      "Ingresa tu mensaje: bunjnj\n",
      "CVOKOK\n"
     ]
    }
   ],
   "source": [
    "# Cifrado César\n",
    "#Cada letra del mensaje se reemplaza por su consecuente más cercano.\n",
    "#Solo acepta letras latinas, todas las letras del mensaje están en mayúsculas. \n",
    "text = input(\"Ingresa tu mensaje: \")\n",
    "cifrado = '' #ngrese un mensaje (sin cifrar) de una línea.\n",
    "for char in text: #prepara una cadena para el mensaje cifrado. \n",
    "    if not char.isalpha(): #inicia la iteración a través del mensaje.\n",
    "        continue #si el caracter actual no es alfabético...\n",
    "    char = char.upper() #ignorarlo.\n",
    "    code = ord(char) + 1 #convierta la letra a mayúsculas. \n",
    "    if code > ord('Z'): #\n",
    "        code = ord('A') #agrega el carácter recibido al final del mensaje cifrado.\n",
    "    cifrado += chr(code) \n",
    "\n",
    "print(cifrado) "
   ]
  },
  {
   "cell_type": "code",
   "execution_count": null,
   "metadata": {},
   "outputs": [],
   "source": []
  },
  {
   "cell_type": "code",
   "execution_count": null,
   "metadata": {},
   "outputs": [],
   "source": []
  }
 ],
 "metadata": {
  "kernelspec": {
   "display_name": "Python 3",
   "language": "python",
   "name": "python3"
  },
  "language_info": {
   "codemirror_mode": {
    "name": "ipython",
    "version": 3
   },
   "file_extension": ".py",
   "mimetype": "text/x-python",
   "name": "python",
   "nbconvert_exporter": "python",
   "pygments_lexer": "ipython3",
   "version": "3.8.3"
  }
 },
 "nbformat": 4,
 "nbformat_minor": 4
}
