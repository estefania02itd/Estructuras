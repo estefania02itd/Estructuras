{
 "cells": [
  {
   "cell_type": "code",
   "execution_count": 2,
   "metadata": {},
   "outputs": [
    {
     "name": "stdout",
     "output_type": "stream",
     "text": [
      "Ingresa tu criptograma: hwebuwd\n",
      "GVDATVC\n"
     ]
    }
   ],
   "source": [
    "# Cifrado César - descifrar un mensaje\n",
    "#Cada letra del mensaje se reemplaza por su consecuente más cercano.\n",
    "#Prepara una cadena para el mensaje que se le esta dando.  \n",
    "#convierte las letras a mayuscula. \n",
    "cifrado = input('Ingresa tu criptograma: ') #atraves del mensaje icicia su cadena. \n",
    "text = '' \n",
    "for char in cifrado:\n",
    "    if not char.isalpha():\n",
    "        continue \n",
    "    char = char.upper()\n",
    "    code = ord(char) - 1\n",
    "    if code < ord('A'):\n",
    "        code = ord('Z')\n",
    "    text += chr(code)\n",
    "\n",
    "print(text)"
   ]
  },
  {
   "cell_type": "code",
   "execution_count": null,
   "metadata": {},
   "outputs": [],
   "source": []
  }
 ],
 "metadata": {
  "kernelspec": {
   "display_name": "Python 3",
   "language": "python",
   "name": "python3"
  },
  "language_info": {
   "codemirror_mode": {
    "name": "ipython",
    "version": 3
   },
   "file_extension": ".py",
   "mimetype": "text/x-python",
   "name": "python",
   "nbconvert_exporter": "python",
   "pygments_lexer": "ipython3",
   "version": "3.8.3"
  }
 },
 "nbformat": 4,
 "nbformat_minor": 4
}
