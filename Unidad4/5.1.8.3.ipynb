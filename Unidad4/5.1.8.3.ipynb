{
 "cells": [
  {
   "cell_type": "code",
   "execution_count": 5,
   "metadata": {},
   "outputs": [
    {
     "name": "stdout",
     "output_type": "stream",
     "text": [
      "ab\n",
      "ba\n",
      "aaaaa\n",
      "bbbb\n"
     ]
    }
   ],
   "source": [
    "## Operaciones con cadenas\n",
    "str1 = 'a'\n",
    "str2 = 'b'\n",
    "#el operador + y - no son suma y resta\n",
    "#el operador + no es una multiplicacion\n",
    "print(str1 + str2) #produce una nueva cadena.\n",
    "print(str2 + str1)\n",
    "# mismo operador en tipos de datos completamente diferentes - overloading - sobrecarga.\n",
    "print(5 * 'a') #nueva cadena creada por la enésima replicación de la cadena del argumento.\n",
    "print('b' * 4)"
   ]
  }
 ],
 "metadata": {
  "kernelspec": {
   "display_name": "Python 3",
   "language": "python",
   "name": "python3"
  },
  "language_info": {
   "codemirror_mode": {
    "name": "ipython",
    "version": 3
   },
   "file_extension": ".py",
   "mimetype": "text/x-python",
   "name": "python",
   "nbconvert_exporter": "python",
   "pygments_lexer": "ipython3",
   "version": "3.8.3"
  }
 },
 "nbformat": 4,
 "nbformat_minor": 4
}
