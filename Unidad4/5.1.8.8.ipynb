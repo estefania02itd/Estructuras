{
 "cells": [
  {
   "cell_type": "code",
   "execution_count": 2,
   "metadata": {},
   "outputs": [
    {
     "name": "stdout",
     "output_type": "stream",
     "text": [
      "True\n",
      "False\n",
      "False\n",
      "True\n",
      "False\n"
     ]
    }
   ],
   "source": [
    "alpfabeto = \"abcdefghijklmnopqrstuvwxyz\"\n",
    "#cadenas dentro del argumento\n",
    "#definir argumentos\n",
    "#salidas true o false de acuerdo a los argumentos izquierdo o derecho\n",
    "print(\"f\" in alpfabeto)\n",
    "print(\"F\" in alpfabeto)\n",
    "print(\"1\" in alpfabeto)\n",
    "print(\"ghi\" in alpfabeto)\n",
    "print(\"Xyz\" in alpfabeto)"
   ]
  },
  {
   "cell_type": "code",
   "execution_count": null,
   "metadata": {},
   "outputs": [],
   "source": []
  }
 ],
 "metadata": {
  "kernelspec": {
   "display_name": "Python 3",
   "language": "python",
   "name": "python3"
  },
  "language_info": {
   "codemirror_mode": {
    "name": "ipython",
    "version": 3
   },
   "file_extension": ".py",
   "mimetype": "text/x-python",
   "name": "python",
   "nbconvert_exporter": "python",
   "pygments_lexer": "ipython3",
   "version": "3.8.3"
  }
 },
 "nbformat": 4,
 "nbformat_minor": 4
}
