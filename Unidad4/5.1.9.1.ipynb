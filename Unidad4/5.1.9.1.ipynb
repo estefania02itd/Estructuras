{
 "cells": [
  {
   "cell_type": "code",
   "execution_count": 2,
   "metadata": {},
   "outputs": [
    {
     "name": "stdout",
     "output_type": "stream",
     "text": [
      "Abcd\n"
     ]
    }
   ],
   "source": [
    "# Demostración del método capitalize()\n",
    "#crea una nueva cadena de la cadena fuente, Si el primer caracter dentro de la cadena es una letra,se convertirá a mayúsculas.\n",
    "#Todas las letras restantes de la cadena se convertirán a minúsculas.\n",
    "#los metodos se pueden invocar directamente desde dentro de literales de cadena.\n",
    "print('aBcD'.capitalize())\n"
   ]
  },
  {
   "cell_type": "code",
   "execution_count": null,
   "metadata": {},
   "outputs": [],
   "source": []
  }
 ],
 "metadata": {
  "kernelspec": {
   "display_name": "Python 3",
   "language": "python",
   "name": "python3"
  },
  "language_info": {
   "codemirror_mode": {
    "name": "ipython",
    "version": 3
   },
   "file_extension": ".py",
   "mimetype": "text/x-python",
   "name": "python",
   "nbconvert_exporter": "python",
   "pygments_lexer": "ipython3",
   "version": "3.8.3"
  }
 },
 "nbformat": 4,
 "nbformat_minor": 4
}
