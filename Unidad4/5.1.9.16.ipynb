{
 "cells": [
  {
   "cell_type": "code",
   "execution_count": 2,
   "metadata": {},
   "outputs": [
    {
     "name": "stdout",
     "output_type": "stream",
     "text": [
      "yO SÉ QUE NO SÉ NADA.\n",
      "\n",
      "Yo Sé Que No Sé Nada. Parte 1.\n",
      "\n",
      "YO SÉ QUE NO SÉ NADA. PARTE 2.\n"
     ]
    }
   ],
   "source": [
    "# Demostración del método swapcase()\n",
    "#Crea una nueva cadena intercambiando todas las letras por mayúsculas o minúsculas\n",
    "print(\"Yo sé que no sé nada.\".swapcase())\n",
    "\n",
    "print()\n",
    "\n",
    "# Demostración del método title()\n",
    "#Cambia la primera letra de cada palabra a mayúsculas, convirtiendo todas las demás a minúsculas.\n",
    "print(\"Yo sé que no sé nada. Parte 1.\".title())\n",
    "\n",
    "print()\n",
    "\n",
    "# Demostración del método upper()\n",
    "#Hace una copia de la cadena de origen, reemplaza todas las letras minúsculas con sus equivalentes en mayúsculas\n",
    "print(\"Yo sé que no sé nada. Parte 2.\".upper())"
   ]
  },
  {
   "cell_type": "code",
   "execution_count": null,
   "metadata": {},
   "outputs": [],
   "source": []
  }
 ],
 "metadata": {
  "kernelspec": {
   "display_name": "Python 3",
   "language": "python",
   "name": "python3"
  },
  "language_info": {
   "codemirror_mode": {
    "name": "ipython",
    "version": 3
   },
   "file_extension": ".py",
   "mimetype": "text/x-python",
   "name": "python",
   "nbconvert_exporter": "python",
   "pygments_lexer": "ipython3",
   "version": "3.8.3"
  }
 },
 "nbformat": 4,
 "nbformat_minor": 4
}
