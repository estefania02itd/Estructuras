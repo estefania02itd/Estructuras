{
 "cells": [
  {
   "cell_type": "code",
   "execution_count": 12,
   "metadata": {},
   "outputs": [
    {
     "name": "stdout",
     "output_type": "stream",
     "text": [
      "Ingresa el mensaje : jhuhjnhi\n",
      "Ingresa un valor de 1 hasta el 25: 1\n",
      " kivikoij\n"
     ]
    }
   ],
   "source": [
    "import string \n",
    "alf = list(string.ascii_lowercase)\n",
    "a = list (string.ascii_uppercase)\n",
    "textinicial = input ( \"Ingresa el mensaje : \")\n",
    "b = int(input (\"Ingresa un valor de 1 hasta el 25: \"))\n",
    "texto_ingresado = \" \" \n",
    "\n",
    "if 0 < b < 26:\n",
    "    for letra in textinicial: \n",
    "        if letra in alf:\n",
    "            id_actual = alf.index(letra)\n",
    "            id_cesar = id_actual + b\n",
    "            if id_cesar > 26:\n",
    "                 id_cesar -= 26\n",
    "            texto_ingresado += alf [id_cesar] \n",
    "        elif letra in al: \n",
    "                id_actual2 = al.index (letra)\n",
    "                id_cesar2 = id_actual2 + b\n",
    "                if id_cesar2 > 26:\n",
    "                    id_cesar2 -= 26\n",
    "                texto_ingresado += a[id_cesar]\n",
    "        else:\n",
    "            texto_ingresado += letra\n",
    "    print(texto_ingresado)\n",
    "else: \n",
    "    print(\"Numero fuera de rango\")  \n",
    "    \n",
    "    "
   ]
  },
  {
   "cell_type": "code",
   "execution_count": null,
   "metadata": {},
   "outputs": [],
   "source": []
  }
 ],
 "metadata": {
  "kernelspec": {
   "display_name": "Python 3",
   "language": "python",
   "name": "python3"
  },
  "language_info": {
   "codemirror_mode": {
    "name": "ipython",
    "version": 3
   },
   "file_extension": ".py",
   "mimetype": "text/x-python",
   "name": "python",
   "nbconvert_exporter": "python",
   "pygments_lexer": "ipython3",
   "version": "3.8.3"
  }
 },
 "nbformat": 4,
 "nbformat_minor": 4
}
