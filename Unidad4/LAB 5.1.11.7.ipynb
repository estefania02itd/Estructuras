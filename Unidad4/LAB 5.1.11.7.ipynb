{
 "cells": [
  {
   "cell_type": "code",
   "execution_count": 10,
   "metadata": {},
   "outputs": [
    {
     "name": "stdout",
     "output_type": "stream",
     "text": [
      " Ingrese el texto: Ten animals I slam in a net\n",
      " El texto introducido es un palindromo \n"
     ]
    }
   ],
   "source": [
    "#Convierte el texto a minusculas, el texto se invierte y comprueba si lo que se ingresa es o no un palindromo.\n",
    "miString = input (\" Ingrese el texto: \")\n",
    "miString = miString.casefold()\n",
    "miString = miString.replace (\" \",\"\")\n",
    "\n",
    "stringInvertido = reversed(miString)\n",
    "if list(miString) == list (stringInvertido):\n",
    "        print (\" El texto introducido es un palindromo \")\n",
    "else: \n",
    "        print (\"El texto introducido no es un palindromo \") \n",
    "        \n",
    "        \n",
    "    "
   ]
  },
  {
   "cell_type": "code",
   "execution_count": null,
   "metadata": {},
   "outputs": [],
   "source": []
  }
 ],
 "metadata": {
  "kernelspec": {
   "display_name": "Python 3",
   "language": "python",
   "name": "python3"
  },
  "language_info": {
   "codemirror_mode": {
    "name": "ipython",
    "version": 3
   },
   "file_extension": ".py",
   "mimetype": "text/x-python",
   "name": "python",
   "nbconvert_exporter": "python",
   "pygments_lexer": "ipython3",
   "version": "3.8.3"
  }
 },
 "nbformat": 4,
 "nbformat_minor": 4
}
