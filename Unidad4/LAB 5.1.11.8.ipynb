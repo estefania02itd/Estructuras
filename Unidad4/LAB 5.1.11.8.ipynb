{
 "cells": [
  {
   "cell_type": "code",
   "execution_count": 9,
   "metadata": {},
   "outputs": [
    {
     "name": "stdout",
     "output_type": "stream",
     "text": [
      "Ingrese el texto: Listen\n",
      "Ingrese el segundo texto: Silent\n",
      "Es un anagrama\n"
     ]
    }
   ],
   "source": [
    "texto1 = input (\"Ingrese el texto: \")\n",
    "texto1 = texto1.lower()\n",
    "texto2 = input(\"Ingrese el segundo texto: \")\n",
    "texto2 = texto2.lower()\n",
    "\n",
    "txt = sorted(texto1)\n",
    "txt2 = sorted(texto2)\n",
    "\n",
    "if txt == txt2: \n",
    "    print (\"Es un anagrama\")\n",
    "else: \n",
    "    print (\"No es un anagrama\")"
   ]
  },
  {
   "cell_type": "code",
   "execution_count": null,
   "metadata": {},
   "outputs": [],
   "source": []
  },
  {
   "cell_type": "code",
   "execution_count": null,
   "metadata": {},
   "outputs": [],
   "source": []
  }
 ],
 "metadata": {
  "kernelspec": {
   "display_name": "Python 3",
   "language": "python",
   "name": "python3"
  },
  "language_info": {
   "codemirror_mode": {
    "name": "ipython",
    "version": 3
   },
   "file_extension": ".py",
   "mimetype": "text/x-python",
   "name": "python",
   "nbconvert_exporter": "python",
   "pygments_lexer": "ipython3",
   "version": "3.8.3"
  }
 },
 "nbformat": 4,
 "nbformat_minor": 4
}
