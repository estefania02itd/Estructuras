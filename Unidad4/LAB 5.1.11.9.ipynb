{
 "cells": [
  {
   "cell_type": "code",
   "execution_count": 7,
   "metadata": {},
   "outputs": [
    {
     "name": "stdout",
     "output_type": "stream",
     "text": [
      "Ingresa tu fecha de cumpleaños (digitos): 19991229\n",
      "6\n"
     ]
    }
   ],
   "source": [
    "def DígitodelaVida(a):\n",
    "    suma = 0\n",
    "    \n",
    "    while a:\n",
    "        suma += a % 10\n",
    "        a //= 10\n",
    "        \n",
    "    if suma > 9:\n",
    "        return DígitodelaVida(suma) \n",
    "    \n",
    "    return suma\n",
    "a = int(input(\"Ingresa tu fecha de cumpleaños (digitos): \"))\n",
    "\n",
    "print(DígitodelaVida(a)) \n",
    "\n"
   ]
  },
  {
   "cell_type": "code",
   "execution_count": null,
   "metadata": {},
   "outputs": [],
   "source": []
  }
 ],
 "metadata": {
  "kernelspec": {
   "display_name": "Python 3",
   "language": "python",
   "name": "python3"
  },
  "language_info": {
   "codemirror_mode": {
    "name": "ipython",
    "version": 3
   },
   "file_extension": ".py",
   "mimetype": "text/x-python",
   "name": "python",
   "nbconvert_exporter": "python",
   "pygments_lexer": "ipython3",
   "version": "3.8.3"
  }
 },
 "nbformat": 4,
 "nbformat_minor": 4
}
