{
 "cells": [
  {
   "cell_type": "markdown",
   "metadata": {},
   "source": [
    "## ESTRUCTURAS DE BASES DE DATOS\n",
    "\n",
    "## Unidad IV\n",
    "# Estefania Delgado Cruz\n",
    "\n"
   ]
  },
  {
   "cell_type": "code",
   "execution_count": 3,
   "metadata": {},
   "outputs": [
    {
     "name": "stdout",
     "output_type": "stream",
     "text": [
      "Entrar a numero -10 a 10: 11\n",
      "Error: el valor no esta dentro del rango permitido (-10..10)\n",
      "Entrar a numero -10 a 10: d\n",
      "Error: entrada incorrecta\n",
      "Error: el valor no esta dentro del rango permitido (-10..10)\n",
      "Entrar a numero -10 a 10: 2\n",
      "El numero es: 2\n"
     ]
    }
   ],
   "source": [
    "def readint (prompt, min, max):\n",
    "    ok = False\n",
    "    while not ok:\n",
    "        try:\n",
    "            value = int (input(prompt)) \n",
    "            ok = True\n",
    "        except ValueError:\n",
    "            print (\"Error: entrada incorrecta\")\n",
    "        if ok:\n",
    "            ok = value >= min and value <= max\n",
    "        if not ok:\n",
    "            print (\"Error: el valor no esta dentro del rango permitido (\" + str(min) + \"..\" + str(max) + \")\")\n",
    "    return value;\n",
    "\n",
    "v = readint(\"Entrar a numero -10 a 10: \", -10, 10)\n",
    "\n",
    "print (\"El numero es:\", v)\n",
    "\n",
    "                "
   ]
  },
  {
   "cell_type": "code",
   "execution_count": null,
   "metadata": {},
   "outputs": [],
   "source": [
    "= "
   ]
  }
 ],
 "metadata": {
  "kernelspec": {
   "display_name": "Python 3",
   "language": "python",
   "name": "python3"
  },
  "language_info": {
   "codemirror_mode": {
    "name": "ipython",
    "version": 3
   },
   "file_extension": ".py",
   "mimetype": "text/x-python",
   "name": "python",
   "nbconvert_exporter": "python",
   "pygments_lexer": "ipython3",
   "version": "3.8.3"
  }
 },
 "nbformat": 4,
 "nbformat_minor": 4
}
